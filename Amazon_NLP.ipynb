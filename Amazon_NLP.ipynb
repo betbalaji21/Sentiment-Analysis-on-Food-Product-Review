{
 "cells": [
  {
   "cell_type": "code",
   "execution_count": 1,
   "id": "b78ac791-00ec-4046-b20c-0f9e632f0e74",
   "metadata": {},
   "outputs": [],
   "source": [
    "import pandas as pd\n",
    "import numpy as np\n",
    "import math\n"
   ]
  },
  {
   "cell_type": "code",
   "execution_count": 2,
   "id": "0b05de9c-8484-4eb5-9beb-3b2a4039b8d0",
   "metadata": {},
   "outputs": [],
   "source": [
    "amazon = pd.read_csv(r'D:\\IMARTICUS\\Python\\Model Building\\NLP\\Data_set\\AmazonFoodReviews.csv', encoding = 'utf-8')"
   ]
  },
  {
   "cell_type": "code",
   "execution_count": 3,
   "id": "2600f5c6-62a4-4d32-ad38-9946e55a10cd",
   "metadata": {},
   "outputs": [
    {
     "data": {
      "text/plain": [
       "(568454, 10)"
      ]
     },
     "execution_count": 3,
     "metadata": {},
     "output_type": "execute_result"
    }
   ],
   "source": [
    "amazon.shape"
   ]
  },
  {
   "cell_type": "code",
   "execution_count": 4,
   "id": "35f09607-2193-4d36-b540-d92fda7f18e5",
   "metadata": {},
   "outputs": [
    {
     "data": {
      "text/html": [
       "<div>\n",
       "<style scoped>\n",
       "    .dataframe tbody tr th:only-of-type {\n",
       "        vertical-align: middle;\n",
       "    }\n",
       "\n",
       "    .dataframe tbody tr th {\n",
       "        vertical-align: top;\n",
       "    }\n",
       "\n",
       "    .dataframe thead th {\n",
       "        text-align: right;\n",
       "    }\n",
       "</style>\n",
       "<table border=\"1\" class=\"dataframe\">\n",
       "  <thead>\n",
       "    <tr style=\"text-align: right;\">\n",
       "      <th></th>\n",
       "      <th>Id</th>\n",
       "      <th>ProductId</th>\n",
       "      <th>UserId</th>\n",
       "      <th>ProfileName</th>\n",
       "      <th>HelpfulnessNumerator</th>\n",
       "      <th>HelpfulnessDenominator</th>\n",
       "      <th>Score</th>\n",
       "      <th>Time</th>\n",
       "      <th>Summary</th>\n",
       "      <th>Text</th>\n",
       "    </tr>\n",
       "  </thead>\n",
       "  <tbody>\n",
       "    <tr>\n",
       "      <th>0</th>\n",
       "      <td>1</td>\n",
       "      <td>B001E4KFG0</td>\n",
       "      <td>A3SGXH7AUHU8GW</td>\n",
       "      <td>delmartian</td>\n",
       "      <td>1</td>\n",
       "      <td>1</td>\n",
       "      <td>5</td>\n",
       "      <td>1303862400</td>\n",
       "      <td>Good Quality Dog Food</td>\n",
       "      <td>I have bought several of the Vitality canned d...</td>\n",
       "    </tr>\n",
       "    <tr>\n",
       "      <th>1</th>\n",
       "      <td>2</td>\n",
       "      <td>B00813GRG4</td>\n",
       "      <td>A1D87F6ZCVE5NK</td>\n",
       "      <td>dll pa</td>\n",
       "      <td>0</td>\n",
       "      <td>0</td>\n",
       "      <td>1</td>\n",
       "      <td>1346976000</td>\n",
       "      <td>Not as Advertised</td>\n",
       "      <td>Product arrived labeled as Jumbo Salted Peanut...</td>\n",
       "    </tr>\n",
       "  </tbody>\n",
       "</table>\n",
       "</div>"
      ],
      "text/plain": [
       "   Id   ProductId          UserId ProfileName  HelpfulnessNumerator  \\\n",
       "0   1  B001E4KFG0  A3SGXH7AUHU8GW  delmartian                     1   \n",
       "1   2  B00813GRG4  A1D87F6ZCVE5NK      dll pa                     0   \n",
       "\n",
       "   HelpfulnessDenominator  Score        Time                Summary  \\\n",
       "0                       1      5  1303862400  Good Quality Dog Food   \n",
       "1                       0      1  1346976000      Not as Advertised   \n",
       "\n",
       "                                                Text  \n",
       "0  I have bought several of the Vitality canned d...  \n",
       "1  Product arrived labeled as Jumbo Salted Peanut...  "
      ]
     },
     "execution_count": 4,
     "metadata": {},
     "output_type": "execute_result"
    }
   ],
   "source": [
    "amazon.head(2)"
   ]
  },
  {
   "cell_type": "code",
   "execution_count": 5,
   "id": "46e36846-1b35-46b6-aa92-35a9c073eaa1",
   "metadata": {},
   "outputs": [],
   "source": [
    "amazon = amazon.drop(['Id','ProductId','UserId','ProfileName','HelpfulnessNumerator','HelpfulnessDenominator','Time','Summary'], axis = 1)"
   ]
  },
  {
   "cell_type": "code",
   "execution_count": 6,
   "id": "fa1912f9-d0aa-4f92-a901-7708b79c1012",
   "metadata": {},
   "outputs": [
    {
     "data": {
      "text/html": [
       "<div>\n",
       "<style scoped>\n",
       "    .dataframe tbody tr th:only-of-type {\n",
       "        vertical-align: middle;\n",
       "    }\n",
       "\n",
       "    .dataframe tbody tr th {\n",
       "        vertical-align: top;\n",
       "    }\n",
       "\n",
       "    .dataframe thead th {\n",
       "        text-align: right;\n",
       "    }\n",
       "</style>\n",
       "<table border=\"1\" class=\"dataframe\">\n",
       "  <thead>\n",
       "    <tr style=\"text-align: right;\">\n",
       "      <th></th>\n",
       "      <th>Score</th>\n",
       "      <th>Text</th>\n",
       "    </tr>\n",
       "  </thead>\n",
       "  <tbody>\n",
       "    <tr>\n",
       "      <th>0</th>\n",
       "      <td>5</td>\n",
       "      <td>I have bought several of the Vitality canned d...</td>\n",
       "    </tr>\n",
       "    <tr>\n",
       "      <th>1</th>\n",
       "      <td>1</td>\n",
       "      <td>Product arrived labeled as Jumbo Salted Peanut...</td>\n",
       "    </tr>\n",
       "  </tbody>\n",
       "</table>\n",
       "</div>"
      ],
      "text/plain": [
       "   Score                                               Text\n",
       "0      5  I have bought several of the Vitality canned d...\n",
       "1      1  Product arrived labeled as Jumbo Salted Peanut..."
      ]
     },
     "execution_count": 6,
     "metadata": {},
     "output_type": "execute_result"
    }
   ],
   "source": [
    "amazon.head(2)"
   ]
  },
  {
   "cell_type": "code",
   "execution_count": 7,
   "id": "1a6fb23a-f146-4a38-b821-9b95a8f720e1",
   "metadata": {},
   "outputs": [
    {
     "data": {
      "text/plain": [
       "Score    0\n",
       "Text     0\n",
       "dtype: int64"
      ]
     },
     "execution_count": 7,
     "metadata": {},
     "output_type": "execute_result"
    }
   ],
   "source": [
    "amazon.isnull().sum()"
   ]
  },
  {
   "cell_type": "code",
   "execution_count": null,
   "id": "86b19128-ee39-4698-8f23-7b98c1d7193d",
   "metadata": {},
   "outputs": [],
   "source": [
    "amazon.Score.replace({2:1,3:2,4:3,5:3},inplace =True)"
   ]
  },
  {
   "cell_type": "code",
   "execution_count": 8,
   "id": "565ed417-add3-46e0-8f42-d20e8b5039f6",
   "metadata": {},
   "outputs": [],
   "source": [
    "amazon.Text = amazon.Text.str.lower()"
   ]
  },
  {
   "cell_type": "code",
   "execution_count": 9,
   "id": "c6bb8155-8167-4981-9aa2-f7e8478a8808",
   "metadata": {},
   "outputs": [],
   "source": [
    "from nltk.corpus import stopwords\n",
    "\n"
   ]
  },
  {
   "cell_type": "code",
   "execution_count": 10,
   "id": "16190f2b-7726-4676-858c-71a460f85657",
   "metadata": {},
   "outputs": [],
   "source": [
    "l1 = stopwords.words('english')"
   ]
  },
  {
   "cell_type": "code",
   "execution_count": 11,
   "id": "0fafabaf-d76e-4ed7-9230-3e88a8e6537f",
   "metadata": {},
   "outputs": [
    {
     "data": {
      "text/plain": [
       "'!\"#$%&\\'()*+,-./:;<=>?@[\\\\]^_`{|}~'"
      ]
     },
     "execution_count": 11,
     "metadata": {},
     "output_type": "execute_result"
    }
   ],
   "source": [
    "import string\n",
    "\n",
    "string.punctuation"
   ]
  },
  {
   "cell_type": "code",
   "execution_count": 12,
   "id": "3ae9530a-0a75-498b-a2af-1f208142ba12",
   "metadata": {},
   "outputs": [],
   "source": [
    "def text_process(mess):            ### creating a function\n",
    "    \"\"\"                                                        ## a docstring\n",
    "    1. remove the punctuation\n",
    "    2. remove the stopwords\n",
    "    3. return the list of clean textwords\n",
    "    \n",
    "    \"\"\"\n",
    "    nopunc = [char for char in mess if char not in string.punctuation]\n",
    "    nopunc = \"\".join(nopunc)\n",
    "    \n",
    "    return [ word for word in nopunc.split() if word not in l1]"
   ]
  },
  {
   "cell_type": "code",
   "execution_count": 13,
   "id": "48248112-b8fc-4192-9464-533fdfb5532f",
   "metadata": {},
   "outputs": [],
   "source": [
    "# amazon['Text'].apply(text_process)"
   ]
  },
  {
   "cell_type": "code",
   "execution_count": 14,
   "id": "d20afa36-7935-4cd0-a172-f555e016dfdf",
   "metadata": {},
   "outputs": [],
   "source": [
    "#TDM"
   ]
  },
  {
   "cell_type": "code",
   "execution_count": 15,
   "id": "e1725bff-7f06-471b-8f51-e80e06b2f5ec",
   "metadata": {},
   "outputs": [],
   "source": [
    "from sklearn.feature_extraction.text import CountVectorizer"
   ]
  },
  {
   "cell_type": "code",
   "execution_count": 16,
   "id": "46baab6f-c61d-4c1f-858b-142d1258e8cb",
   "metadata": {},
   "outputs": [],
   "source": [
    "amazon_count = CountVectorizer(analyzer= text_process).fit(amazon['Text'])"
   ]
  },
  {
   "cell_type": "code",
   "execution_count": 17,
   "id": "43c7b5b1-1677-43d5-9fde-e310b59772d3",
   "metadata": {},
   "outputs": [
    {
     "data": {
      "text/plain": [
       "240626"
      ]
     },
     "execution_count": 17,
     "metadata": {},
     "output_type": "execute_result"
    }
   ],
   "source": [
    "len(amazon_count.vocabulary_ )"
   ]
  },
  {
   "cell_type": "code",
   "execution_count": 18,
   "id": "49ec3992-7829-4330-a1b9-8c7277158479",
   "metadata": {},
   "outputs": [],
   "source": [
    "df_x = amazon_count.transform(amazon['Text'])\n",
    "\n",
    "# create the tdm"
   ]
  },
  {
   "cell_type": "code",
   "execution_count": 19,
   "id": "36bfa0e0-34d4-4536-9c66-9d7c52957d9d",
   "metadata": {},
   "outputs": [
    {
     "data": {
      "text/plain": [
       "(568454, 240626)"
      ]
     },
     "execution_count": 19,
     "metadata": {},
     "output_type": "execute_result"
    }
   ],
   "source": [
    "df_x.shape"
   ]
  },
  {
   "cell_type": "code",
   "execution_count": 20,
   "id": "a7c8cbc7-aa0f-4959-b005-03d158c9df26",
   "metadata": {},
   "outputs": [],
   "source": [
    "from sklearn.model_selection import train_test_split\n",
    "\n",
    "x_train, x_test, y_train, y_test = train_test_split(df_x, amazon.Score, test_size = .2)"
   ]
  },
  {
   "cell_type": "code",
   "execution_count": 21,
   "id": "c9e04caa-5234-4d7d-83bf-95ae72106399",
   "metadata": {},
   "outputs": [
    {
     "name": "stdout",
     "output_type": "stream",
     "text": [
      "(454763, 240626) (454763,)\n",
      "(113691, 240626) (113691,)\n"
     ]
    }
   ],
   "source": [
    "print(x_train.shape, y_train.shape)\n",
    "print(x_test.shape, y_test.shape)"
   ]
  },
  {
   "cell_type": "code",
   "execution_count": 22,
   "id": "06debf3e-7302-4b8d-a1a6-3226af229d7c",
   "metadata": {},
   "outputs": [],
   "source": [
    "# build the NB model on train"
   ]
  },
  {
   "cell_type": "code",
   "execution_count": 23,
   "id": "fcd56802-4147-4567-bce8-793ecc0ace6c",
   "metadata": {},
   "outputs": [],
   "source": [
    "from sklearn.naive_bayes import MultinomialNB\n",
    "from sklearn.tree import DecisionTreeClassifier\n",
    "\n",
    "\n",
    "nb = MultinomialNB()\n",
    "dt = DecisionTreeClassifier(criterion='entropy',max_depth= 10)\n"
   ]
  },
  {
   "cell_type": "code",
   "execution_count": 35,
   "id": "b540d1b7-348b-4062-aa3a-c4da5a70dbef",
   "metadata": {},
   "outputs": [
    {
     "data": {
      "text/plain": [
       "DecisionTreeClassifier(criterion='entropy', max_depth=10)"
      ]
     },
     "execution_count": 35,
     "metadata": {},
     "output_type": "execute_result"
    }
   ],
   "source": [
    "dt.fit(x_train , y_train)"
   ]
  },
  {
   "cell_type": "code",
   "execution_count": 30,
   "id": "0dbb5ee1-cf02-4c92-b3ed-e2aa51a5db67",
   "metadata": {},
   "outputs": [
    {
     "data": {
      "text/plain": [
       "MultinomialNB()"
      ]
     },
     "execution_count": 30,
     "metadata": {},
     "output_type": "execute_result"
    }
   ],
   "source": [
    "nb.fit(x_train, y_train)"
   ]
  },
  {
   "cell_type": "code",
   "execution_count": 31,
   "id": "d13b42f1-1296-494f-8904-5e6598687304",
   "metadata": {},
   "outputs": [],
   "source": [
    "pred_nb =  nb.predict(x_test)"
   ]
  },
  {
   "cell_type": "code",
   "execution_count": 36,
   "id": "dc374664-7268-4f0b-9d6e-6952c8de4404",
   "metadata": {},
   "outputs": [],
   "source": [
    "pred_dt =  dt.predict(x_test)"
   ]
  },
  {
   "cell_type": "code",
   "execution_count": 37,
   "id": "c1c5a5c4-702a-4b29-afc6-a6545fae910d",
   "metadata": {},
   "outputs": [],
   "source": [
    "from sklearn.metrics import confusion_matrix"
   ]
  },
  {
   "cell_type": "code",
   "execution_count": 38,
   "id": "a7ff86fc-af52-43d1-bd13-2fa1be8afd58",
   "metadata": {},
   "outputs": [
    {
     "data": {
      "text/plain": [
       "array([[ 6593,   346,   559,   593,  2403],\n",
       "       [ 1366,   945,   770,   890,  2067],\n",
       "       [  987,   149,  2077,  2056,  3224],\n",
       "       [  635,    60,   488,  5932,  8817],\n",
       "       [ 1462,   167,   506,  4532, 66067]], dtype=int64)"
      ]
     },
     "execution_count": 38,
     "metadata": {},
     "output_type": "execute_result"
    }
   ],
   "source": [
    "tab_nb = confusion_matrix(y_test , pred_nb)\n",
    "tab_nb"
   ]
  },
  {
   "cell_type": "code",
   "execution_count": 39,
   "id": "787f1aaa-a96c-4796-9cc2-1cda889be872",
   "metadata": {},
   "outputs": [
    {
     "data": {
      "text/plain": [
       "array([[ 1336,     6,    22,   150,  8980],\n",
       "       [  383,   115,    43,   229,  5268],\n",
       "       [  261,     5,   234,   501,  7492],\n",
       "       [  141,    14,    60,  1542, 14175],\n",
       "       [  535,    24,    65,   937, 71173]], dtype=int64)"
      ]
     },
     "execution_count": 39,
     "metadata": {},
     "output_type": "execute_result"
    }
   ],
   "source": [
    "tab_dt = confusion_matrix(y_test , pred_dt)\n",
    "tab_dt"
   ]
  },
  {
   "cell_type": "code",
   "execution_count": 40,
   "id": "e0e86cf7-9e54-4e71-a948-e0ccf9e22a66",
   "metadata": {},
   "outputs": [
    {
     "name": "stdout",
     "output_type": "stream",
     "text": [
      "71.785805384771   65.44053619019975\n"
     ]
    }
   ],
   "source": [
    "print(tab_nb.diagonal().sum()*100 / tab_nb.sum(), ' ', tab_dt.diagonal().sum()*100 / tab_dt.sum())"
   ]
  },
  {
   "cell_type": "code",
   "execution_count": null,
   "id": "0eb4f977-3e1a-4057-a9ac-6d4cbf9b4218",
   "metadata": {},
   "outputs": [],
   "source": []
  },
  {
   "cell_type": "code",
   "execution_count": null,
   "id": "9654460b-8aa1-41f6-90bd-52927e553e33",
   "metadata": {},
   "outputs": [],
   "source": []
  },
  {
   "cell_type": "code",
   "execution_count": null,
   "id": "1be665d4-800a-4332-a195-ae789012f64e",
   "metadata": {},
   "outputs": [],
   "source": []
  },
  {
   "cell_type": "code",
   "execution_count": null,
   "id": "6beea3fd-e1c7-4cae-85d5-6eabbd9e15fd",
   "metadata": {},
   "outputs": [],
   "source": []
  },
  {
   "cell_type": "code",
   "execution_count": null,
   "id": "36f78f2a-99a0-44e5-87ad-d0a502284415",
   "metadata": {},
   "outputs": [],
   "source": []
  },
  {
   "cell_type": "code",
   "execution_count": null,
   "id": "1c1fe110-6c1a-492a-84f1-e9b3265dd8e4",
   "metadata": {},
   "outputs": [],
   "source": [
    "import timeit\n",
    "\n",
    "start = timeit.default_timer()  # time start\n",
    "\n",
    "amazon_count = CountVectorizer(analyzer= text_process).fit(amazon['Text'])\n",
    "\n",
    "stop = timeit.default_timer()  # timer stop\n",
    "\n",
    "execution_time = stop - start\n",
    "\n",
    "print('program Executed in ', execution_time )"
   ]
  },
  {
   "cell_type": "code",
   "execution_count": null,
   "id": "e8f3e55e-e8d5-40c7-9a74-ba01ddaa3870",
   "metadata": {},
   "outputs": [],
   "source": []
  },
  {
   "cell_type": "code",
   "execution_count": null,
   "id": "f977372b-f476-4c6d-9e2e-c5d4f8d8d413",
   "metadata": {},
   "outputs": [],
   "source": []
  },
  {
   "cell_type": "code",
   "execution_count": null,
   "id": "70aeebe0-4455-45ad-8ecb-9b3b206b284f",
   "metadata": {},
   "outputs": [],
   "source": []
  },
  {
   "cell_type": "code",
   "execution_count": null,
   "id": "d5aaa692-ca1d-44ef-8a6e-d0f7949d5f10",
   "metadata": {},
   "outputs": [],
   "source": [
    "# do analytics"
   ]
  },
  {
   "cell_type": "code",
   "execution_count": null,
   "id": "44f7848c-30df-42fe-829d-f2ac3ce131b7",
   "metadata": {},
   "outputs": [],
   "source": []
  }
 ],
 "metadata": {
  "kernelspec": {
   "display_name": "Python 3 (ipykernel)",
   "language": "python",
   "name": "python3"
  },
  "language_info": {
   "codemirror_mode": {
    "name": "ipython",
    "version": 3
   },
   "file_extension": ".py",
   "mimetype": "text/x-python",
   "name": "python",
   "nbconvert_exporter": "python",
   "pygments_lexer": "ipython3",
   "version": "3.9.12"
  }
 },
 "nbformat": 4,
 "nbformat_minor": 5
}
