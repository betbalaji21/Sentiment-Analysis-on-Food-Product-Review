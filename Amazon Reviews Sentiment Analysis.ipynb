{
 "cells": [
  {
   "cell_type": "code",
   "execution_count": 1,
   "id": "bd4325b4",
   "metadata": {},
   "outputs": [],
   "source": [
    "import pandas as pd\n",
    "import numpy as np"
   ]
  },
  {
   "cell_type": "markdown",
   "id": "a1e8799c",
   "metadata": {},
   "source": [
    "##### DATA"
   ]
  },
  {
   "cell_type": "code",
   "execution_count": 2,
   "id": "2c678403",
   "metadata": {},
   "outputs": [],
   "source": [
    "amzn = pd.read_csv(r'D:\\IMARTICUS\\AmazonFoodReviews.csv')"
   ]
  },
  {
   "cell_type": "code",
   "execution_count": 3,
   "id": "098a2551",
   "metadata": {},
   "outputs": [
    {
     "data": {
      "text/html": [
       "<div>\n",
       "<style scoped>\n",
       "    .dataframe tbody tr th:only-of-type {\n",
       "        vertical-align: middle;\n",
       "    }\n",
       "\n",
       "    .dataframe tbody tr th {\n",
       "        vertical-align: top;\n",
       "    }\n",
       "\n",
       "    .dataframe thead th {\n",
       "        text-align: right;\n",
       "    }\n",
       "</style>\n",
       "<table border=\"1\" class=\"dataframe\">\n",
       "  <thead>\n",
       "    <tr style=\"text-align: right;\">\n",
       "      <th></th>\n",
       "      <th>Id</th>\n",
       "      <th>ProductId</th>\n",
       "      <th>UserId</th>\n",
       "      <th>ProfileName</th>\n",
       "      <th>HelpfulnessNumerator</th>\n",
       "      <th>HelpfulnessDenominator</th>\n",
       "      <th>Score</th>\n",
       "      <th>Time</th>\n",
       "      <th>Summary</th>\n",
       "      <th>Text</th>\n",
       "    </tr>\n",
       "  </thead>\n",
       "  <tbody>\n",
       "    <tr>\n",
       "      <th>0</th>\n",
       "      <td>1</td>\n",
       "      <td>B001E4KFG0</td>\n",
       "      <td>A3SGXH7AUHU8GW</td>\n",
       "      <td>delmartian</td>\n",
       "      <td>1</td>\n",
       "      <td>1</td>\n",
       "      <td>5</td>\n",
       "      <td>1303862400</td>\n",
       "      <td>Good Quality Dog Food</td>\n",
       "      <td>I have bought several of the Vitality canned d...</td>\n",
       "    </tr>\n",
       "    <tr>\n",
       "      <th>1</th>\n",
       "      <td>2</td>\n",
       "      <td>B00813GRG4</td>\n",
       "      <td>A1D87F6ZCVE5NK</td>\n",
       "      <td>dll pa</td>\n",
       "      <td>0</td>\n",
       "      <td>0</td>\n",
       "      <td>1</td>\n",
       "      <td>1346976000</td>\n",
       "      <td>Not as Advertised</td>\n",
       "      <td>Product arrived labeled as Jumbo Salted Peanut...</td>\n",
       "    </tr>\n",
       "    <tr>\n",
       "      <th>2</th>\n",
       "      <td>3</td>\n",
       "      <td>B000LQOCH0</td>\n",
       "      <td>ABXLMWJIXXAIN</td>\n",
       "      <td>Natalia Corres \"Natalia Corres\"</td>\n",
       "      <td>1</td>\n",
       "      <td>1</td>\n",
       "      <td>4</td>\n",
       "      <td>1219017600</td>\n",
       "      <td>\"Delight\" says it all</td>\n",
       "      <td>This is a confection that has been around a fe...</td>\n",
       "    </tr>\n",
       "    <tr>\n",
       "      <th>3</th>\n",
       "      <td>4</td>\n",
       "      <td>B000UA0QIQ</td>\n",
       "      <td>A395BORC6FGVXV</td>\n",
       "      <td>Karl</td>\n",
       "      <td>3</td>\n",
       "      <td>3</td>\n",
       "      <td>2</td>\n",
       "      <td>1307923200</td>\n",
       "      <td>Cough Medicine</td>\n",
       "      <td>If you are looking for the secret ingredient i...</td>\n",
       "    </tr>\n",
       "    <tr>\n",
       "      <th>4</th>\n",
       "      <td>5</td>\n",
       "      <td>B006K2ZZ7K</td>\n",
       "      <td>A1UQRSCLF8GW1T</td>\n",
       "      <td>Michael D. Bigham \"M. Wassir\"</td>\n",
       "      <td>0</td>\n",
       "      <td>0</td>\n",
       "      <td>5</td>\n",
       "      <td>1350777600</td>\n",
       "      <td>Great taffy</td>\n",
       "      <td>Great taffy at a great price.  There was a wid...</td>\n",
       "    </tr>\n",
       "  </tbody>\n",
       "</table>\n",
       "</div>"
      ],
      "text/plain": [
       "   Id   ProductId          UserId                      ProfileName  \\\n",
       "0   1  B001E4KFG0  A3SGXH7AUHU8GW                       delmartian   \n",
       "1   2  B00813GRG4  A1D87F6ZCVE5NK                           dll pa   \n",
       "2   3  B000LQOCH0   ABXLMWJIXXAIN  Natalia Corres \"Natalia Corres\"   \n",
       "3   4  B000UA0QIQ  A395BORC6FGVXV                             Karl   \n",
       "4   5  B006K2ZZ7K  A1UQRSCLF8GW1T    Michael D. Bigham \"M. Wassir\"   \n",
       "\n",
       "   HelpfulnessNumerator  HelpfulnessDenominator  Score        Time  \\\n",
       "0                     1                       1      5  1303862400   \n",
       "1                     0                       0      1  1346976000   \n",
       "2                     1                       1      4  1219017600   \n",
       "3                     3                       3      2  1307923200   \n",
       "4                     0                       0      5  1350777600   \n",
       "\n",
       "                 Summary                                               Text  \n",
       "0  Good Quality Dog Food  I have bought several of the Vitality canned d...  \n",
       "1      Not as Advertised  Product arrived labeled as Jumbo Salted Peanut...  \n",
       "2  \"Delight\" says it all  This is a confection that has been around a fe...  \n",
       "3         Cough Medicine  If you are looking for the secret ingredient i...  \n",
       "4            Great taffy  Great taffy at a great price.  There was a wid...  "
      ]
     },
     "execution_count": 3,
     "metadata": {},
     "output_type": "execute_result"
    }
   ],
   "source": [
    "amzn.head()"
   ]
  },
  {
   "cell_type": "code",
   "execution_count": 4,
   "id": "d87821c0-a175-4e93-a8d5-eea1ff83e6a7",
   "metadata": {},
   "outputs": [],
   "source": [
    "#amzn = amzn.sample(n=50000, random_state=42)"
   ]
  },
  {
   "cell_type": "markdown",
   "id": "c342417e",
   "metadata": {},
   "source": [
    "##### Preprocessing of Data "
   ]
  },
  {
   "cell_type": "code",
   "execution_count": 5,
   "id": "16ae61e2",
   "metadata": {},
   "outputs": [],
   "source": [
    "amzn = amzn[['Score','Text']]        # Selecting only Relevant columns from our dataset"
   ]
  },
  {
   "cell_type": "markdown",
   "id": "314797a0",
   "metadata": {},
   "source": [
    "#### To simplify the analysis of our model, we have converted the original 5-star ratings into three categories. A score of 1 or 2 is considered negative, 3 is considered neutral, and scores of 4 or 5 are considered positive. This allows us to create a 3x3 confusion matrix, where 1 represents negative text, 2 represents mostly neutral text, and 3 represents positive text."
   ]
  },
  {
   "cell_type": "code",
   "execution_count": 6,
   "id": "3a91be02",
   "metadata": {},
   "outputs": [],
   "source": [
    "amzn.Score.replace({2:1,3:2,4:3,5:3},inplace =True)"
   ]
  },
  {
   "cell_type": "code",
   "execution_count": 7,
   "id": "473c3990",
   "metadata": {},
   "outputs": [
    {
     "data": {
      "text/html": [
       "<div>\n",
       "<style scoped>\n",
       "    .dataframe tbody tr th:only-of-type {\n",
       "        vertical-align: middle;\n",
       "    }\n",
       "\n",
       "    .dataframe tbody tr th {\n",
       "        vertical-align: top;\n",
       "    }\n",
       "\n",
       "    .dataframe thead th {\n",
       "        text-align: right;\n",
       "    }\n",
       "</style>\n",
       "<table border=\"1\" class=\"dataframe\">\n",
       "  <thead>\n",
       "    <tr style=\"text-align: right;\">\n",
       "      <th></th>\n",
       "      <th>Score</th>\n",
       "      <th>Text</th>\n",
       "    </tr>\n",
       "  </thead>\n",
       "  <tbody>\n",
       "    <tr>\n",
       "      <th>0</th>\n",
       "      <td>3</td>\n",
       "      <td>I have bought several of the Vitality canned d...</td>\n",
       "    </tr>\n",
       "    <tr>\n",
       "      <th>1</th>\n",
       "      <td>1</td>\n",
       "      <td>Product arrived labeled as Jumbo Salted Peanut...</td>\n",
       "    </tr>\n",
       "  </tbody>\n",
       "</table>\n",
       "</div>"
      ],
      "text/plain": [
       "   Score                                               Text\n",
       "0      3  I have bought several of the Vitality canned d...\n",
       "1      1  Product arrived labeled as Jumbo Salted Peanut..."
      ]
     },
     "execution_count": 7,
     "metadata": {},
     "output_type": "execute_result"
    }
   ],
   "source": [
    "amzn.head(2)"
   ]
  },
  {
   "cell_type": "code",
   "execution_count": 8,
   "id": "700ac9a6",
   "metadata": {},
   "outputs": [
    {
     "data": {
      "text/plain": [
       "Score    0\n",
       "Text     0\n",
       "dtype: int64"
      ]
     },
     "execution_count": 8,
     "metadata": {},
     "output_type": "execute_result"
    }
   ],
   "source": [
    "amzn.isnull().sum()"
   ]
  },
  {
   "cell_type": "code",
   "execution_count": 9,
   "id": "d5bdd50b",
   "metadata": {},
   "outputs": [],
   "source": [
    "amzn.Text = amzn.Text.str.lower()"
   ]
  },
  {
   "cell_type": "code",
   "execution_count": 10,
   "id": "98de9696",
   "metadata": {},
   "outputs": [],
   "source": [
    "import nltk\n",
    "import string"
   ]
  },
  {
   "cell_type": "code",
   "execution_count": 11,
   "id": "19a96e30",
   "metadata": {},
   "outputs": [],
   "source": [
    "from nltk.corpus import stopwords"
   ]
  },
  {
   "cell_type": "code",
   "execution_count": 12,
   "id": "19160276",
   "metadata": {},
   "outputs": [],
   "source": [
    "l1 = stopwords.words('english')  #this shows the stopwords later we will remove it\n"
   ]
  },
  {
   "cell_type": "code",
   "execution_count": 13,
   "id": "72b77e91",
   "metadata": {},
   "outputs": [],
   "source": [
    "def text_process(mess):            ### creating a function\n",
    "    \"\"\"                                                        ## a docstring\n",
    "    1. remove the punctuation\n",
    "    2. remove the stopwords\n",
    "    3. return the list of clean textwords\n",
    "    \n",
    "    \"\"\"\n",
    "    nopunc = [char for char in mess if char not in string.punctuation]\n",
    "    nopunc = \"\".join(nopunc)\n",
    "    \n",
    "    return [ word for word in nopunc.split() if word not in l1]"
   ]
  },
  {
   "cell_type": "code",
   "execution_count": 14,
   "id": "bc26782a",
   "metadata": {},
   "outputs": [],
   "source": [
    "#amzn['Text'].apply(text_process)"
   ]
  },
  {
   "cell_type": "code",
   "execution_count": 15,
   "id": "50d39e75",
   "metadata": {},
   "outputs": [],
   "source": [
    "from sklearn.feature_extraction.text import CountVectorizer"
   ]
  },
  {
   "cell_type": "code",
   "execution_count": 16,
   "id": "1c3e6488",
   "metadata": {},
   "outputs": [],
   "source": [
    "text_count = CountVectorizer(analyzer= text_process).fit(amzn['Text'])"
   ]
  },
  {
   "cell_type": "code",
   "execution_count": 17,
   "id": "8b0cc1de",
   "metadata": {},
   "outputs": [
    {
     "data": {
      "text/plain": [
       "240626"
      ]
     },
     "execution_count": 17,
     "metadata": {},
     "output_type": "execute_result"
    }
   ],
   "source": [
    "len(text_count.vocabulary_ )"
   ]
  },
  {
   "cell_type": "code",
   "execution_count": 18,
   "id": "56153528",
   "metadata": {},
   "outputs": [],
   "source": [
    "df_x = text_count.transform(amzn['Text'])"
   ]
  },
  {
   "cell_type": "code",
   "execution_count": 19,
   "id": "599a0d94",
   "metadata": {},
   "outputs": [],
   "source": [
    "from sklearn.model_selection import train_test_split"
   ]
  },
  {
   "cell_type": "code",
   "execution_count": 20,
   "id": "7420981f",
   "metadata": {},
   "outputs": [],
   "source": [
    "x_train,x_test,y_train,y_test = train_test_split(df_x,amzn.Score,test_size=.2)"
   ]
  },
  {
   "cell_type": "code",
   "execution_count": 21,
   "id": "210bdad0",
   "metadata": {},
   "outputs": [],
   "source": [
    "#-------------------------------------------------------------------------------------------------------------------------------"
   ]
  },
  {
   "cell_type": "markdown",
   "id": "320e184a",
   "metadata": {},
   "source": [
    "##### Model Building"
   ]
  },
  {
   "cell_type": "code",
   "execution_count": 22,
   "id": "5ceb1352",
   "metadata": {},
   "outputs": [],
   "source": [
    "from sklearn.naive_bayes  import MultinomialNB \n",
    "nb  = MultinomialNB()"
   ]
  },
  {
   "cell_type": "code",
   "execution_count": 23,
   "id": "04e12691",
   "metadata": {},
   "outputs": [
    {
     "data": {
      "text/plain": [
       "MultinomialNB()"
      ]
     },
     "execution_count": 23,
     "metadata": {},
     "output_type": "execute_result"
    }
   ],
   "source": [
    "nb.fit(x_train,y_train)"
   ]
  },
  {
   "cell_type": "code",
   "execution_count": 24,
   "id": "1e71f32b",
   "metadata": {},
   "outputs": [],
   "source": [
    "pr = nb.predict(x_test)"
   ]
  },
  {
   "cell_type": "code",
   "execution_count": 25,
   "id": "c8858662",
   "metadata": {},
   "outputs": [],
   "source": [
    "from sklearn.metrics import confusion_matrix,accuracy_score"
   ]
  },
  {
   "cell_type": "code",
   "execution_count": 26,
   "id": "03e9993f",
   "metadata": {},
   "outputs": [
    {
     "data": {
      "text/plain": [
       "array([[10760,   971,  4608],\n",
       "       [ 1657,  2264,  4603],\n",
       "       [ 3279,  2081, 83468]], dtype=int64)"
      ]
     },
     "execution_count": 26,
     "metadata": {},
     "output_type": "execute_result"
    }
   ],
   "source": [
    "confusion_matrix(y_test,pr)"
   ]
  },
  {
   "cell_type": "code",
   "execution_count": 27,
   "id": "a0290f84",
   "metadata": {},
   "outputs": [
    {
     "data": {
      "text/plain": [
       "84.87215346861228"
      ]
     },
     "execution_count": 27,
     "metadata": {},
     "output_type": "execute_result"
    }
   ],
   "source": [
    "accuracy_score(y_test,pr)*100"
   ]
  },
  {
   "cell_type": "markdown",
   "id": "73dea9a1",
   "metadata": {},
   "source": [
    "#### Naive Bayes is considered a suitable algorithm for sentiment analysis due to its utilization of conditional probability to make predictions. It has demonstrated an impressive accuracy rate of around 82%. In addition, sentiment analysis techniques often incorporate tools like Vader and TextBlob to assess the polarity of reviews and delve deeper into the analysis of sentiment."
   ]
  },
  {
   "cell_type": "code",
   "execution_count": 28,
   "id": "f3d43554",
   "metadata": {},
   "outputs": [],
   "source": [
    "from nltk.sentiment.vader import SentimentIntensityAnalyzer\n",
    "sent = SentimentIntensityAnalyzer()"
   ]
  },
  {
   "cell_type": "code",
   "execution_count": 29,
   "id": "5f2ae9d9",
   "metadata": {},
   "outputs": [],
   "source": [
    "polarity_score = []\n",
    "\n",
    "for i in range(0,amzn.shape[0]):\n",
    "    ans = sent.polarity_scores(amzn.Text[i])\n",
    "    polarity_score.append(ans['compound'])"
   ]
  },
  {
   "cell_type": "code",
   "execution_count": 30,
   "id": "91e8dc30",
   "metadata": {},
   "outputs": [],
   "source": [
    "from textblob import TextBlob"
   ]
  },
  {
   "cell_type": "code",
   "execution_count": 31,
   "id": "861db87a",
   "metadata": {},
   "outputs": [],
   "source": [
    "textblob_score = []\n",
    "\n",
    "\n",
    "for i in range(0,amzn.shape[0]):\n",
    "    ans = TextBlob(amzn.Text[i])\n",
    "    textblob_score.append(ans.sentiment[0])"
   ]
  },
  {
   "cell_type": "code",
   "execution_count": 32,
   "id": "77249070",
   "metadata": {},
   "outputs": [],
   "source": [
    "df = pd.DataFrame()"
   ]
  },
  {
   "cell_type": "code",
   "execution_count": 33,
   "id": "2066f921",
   "metadata": {},
   "outputs": [],
   "source": [
    "df['compound'] = polarity_score\n",
    "df['text_blob'] = textblob_score"
   ]
  },
  {
   "cell_type": "code",
   "execution_count": 34,
   "id": "dbf67115",
   "metadata": {},
   "outputs": [
    {
     "data": {
      "text/html": [
       "<div>\n",
       "<style scoped>\n",
       "    .dataframe tbody tr th:only-of-type {\n",
       "        vertical-align: middle;\n",
       "    }\n",
       "\n",
       "    .dataframe tbody tr th {\n",
       "        vertical-align: top;\n",
       "    }\n",
       "\n",
       "    .dataframe thead th {\n",
       "        text-align: right;\n",
       "    }\n",
       "</style>\n",
       "<table border=\"1\" class=\"dataframe\">\n",
       "  <thead>\n",
       "    <tr style=\"text-align: right;\">\n",
       "      <th></th>\n",
       "      <th>compound</th>\n",
       "      <th>text_blob</th>\n",
       "    </tr>\n",
       "  </thead>\n",
       "  <tbody>\n",
       "    <tr>\n",
       "      <th>0</th>\n",
       "      <td>0.9441</td>\n",
       "      <td>0.450000</td>\n",
       "    </tr>\n",
       "    <tr>\n",
       "      <th>1</th>\n",
       "      <td>-0.5664</td>\n",
       "      <td>-0.033333</td>\n",
       "    </tr>\n",
       "    <tr>\n",
       "      <th>2</th>\n",
       "      <td>0.8265</td>\n",
       "      <td>0.133571</td>\n",
       "    </tr>\n",
       "    <tr>\n",
       "      <th>3</th>\n",
       "      <td>0.0000</td>\n",
       "      <td>0.166667</td>\n",
       "    </tr>\n",
       "    <tr>\n",
       "      <th>4</th>\n",
       "      <td>0.9468</td>\n",
       "      <td>0.483333</td>\n",
       "    </tr>\n",
       "  </tbody>\n",
       "</table>\n",
       "</div>"
      ],
      "text/plain": [
       "   compound  text_blob\n",
       "0    0.9441   0.450000\n",
       "1   -0.5664  -0.033333\n",
       "2    0.8265   0.133571\n",
       "3    0.0000   0.166667\n",
       "4    0.9468   0.483333"
      ]
     },
     "execution_count": 34,
     "metadata": {},
     "output_type": "execute_result"
    }
   ],
   "source": [
    "df.head()"
   ]
  },
  {
   "cell_type": "code",
   "execution_count": 35,
   "id": "35006429",
   "metadata": {},
   "outputs": [
    {
     "data": {
      "text/plain": [
       "count    568454.000000\n",
       "mean          0.241550\n",
       "std           0.224776\n",
       "min          -1.000000\n",
       "10%          -0.003311\n",
       "20%           0.075000\n",
       "30%           0.133333\n",
       "40%           0.184091\n",
       "50%           0.231786\n",
       "60%           0.280769\n",
       "70%           0.337500\n",
       "80%           0.409091\n",
       "90%           0.515044\n",
       "100%          1.000000\n",
       "max           1.000000\n",
       "Name: text_blob, dtype: float64"
      ]
     },
     "execution_count": 35,
     "metadata": {},
     "output_type": "execute_result"
    }
   ],
   "source": [
    "df.text_blob.describe(percentiles=[.1,.2,.3,.4,.5,.6,.7,.8,.9,1])"
   ]
  },
  {
   "cell_type": "code",
   "execution_count": 36,
   "id": "29515175",
   "metadata": {},
   "outputs": [
    {
     "data": {
      "text/plain": [
       "count    568454.000000\n",
       "mean          0.646534\n",
       "std           0.465724\n",
       "min          -0.999400\n",
       "10%          -0.101000\n",
       "20%           0.440400\n",
       "30%           0.666300\n",
       "40%           0.785200\n",
       "50%           0.852700\n",
       "60%           0.897400\n",
       "70%           0.928300\n",
       "80%           0.953300\n",
       "90%           0.974400\n",
       "100%          0.999900\n",
       "max           0.999900\n",
       "Name: compound, dtype: float64"
      ]
     },
     "execution_count": 36,
     "metadata": {},
     "output_type": "execute_result"
    }
   ],
   "source": [
    "df.compound.describe(percentiles=[.1,.2,.3,.4,.5,.6,.7,.8,.9,1])"
   ]
  },
  {
   "cell_type": "code",
   "execution_count": 37,
   "id": "bddfc19c",
   "metadata": {},
   "outputs": [],
   "source": [
    "import matplotlib.pyplot as plt"
   ]
  },
  {
   "cell_type": "code",
   "execution_count": 38,
   "id": "b0734696",
   "metadata": {},
   "outputs": [
    {
     "data": {
      "image/png": "[encoded data removed]",
      "text/plain": [
       "<Figure size 432x288 with 1 Axes>"
      ]
     },
     "metadata": {
      "needs_background": "light"
     },
     "output_type": "display_data"
    }
   ],
   "source": [
    "plt.hist(df.compound,bins =30,edgecolor='black');\n",
    "plt.xlabel('Value')\n",
    "plt.ylabel('Frequency')\n",
    "plt.title('Sentiment Analysis Using NLTK')\n",
    "plt.show()"
   ]
  },
  {
   "cell_type": "code",
   "execution_count": 39,
   "id": "b10b3488",
   "metadata": {},
   "outputs": [
    {
     "data": {
      "image/png": "[encoded data removed]",
      "text/plain": [
       "<Figure size 432x288 with 1 Axes>"
      ]
     },
     "metadata": {
      "needs_background": "light"
     },
     "output_type": "display_data"
    }
   ],
   "source": [
    "plt.hist(df.text_blob,bins =30,edgecolor='black');\n",
    "plt.xlabel('Value')\n",
    "plt.ylabel('Frequency')\n",
    "plt.title('Sentiment Analysis Using TextBlob')\n",
    "plt.show()"
   ]
  },
  {
   "cell_type": "code",
   "execution_count": 40,
   "id": "15d12bbe",
   "metadata": {},
   "outputs": [],
   "source": [
    "COUNT_Positive = df[df.compound > 0.25].shape[0]\n",
    "COUNT_negative = df[df.compound < -0.25].shape[0]"
   ]
  },
  {
   "cell_type": "code",
   "execution_count": 41,
   "id": "04d76e5b",
   "metadata": {},
   "outputs": [
    {
     "name": "stdout",
     "output_type": "stream",
     "text": [
      "Percentage of total positive reviews According to nltk Compound Score: 84.42 %\n",
      "Percentage of total negative reviews According to nltk Compound Score: 8.39 %\n",
      "Percentage of total Neutral reviews According to nltk Compound Score: 7.19 %\n"
     ]
    }
   ],
   "source": [
    "print(\"Percentage of total positive reviews According to nltk Compound Score: {:.2f}\".format(COUNT_Positive*100/df.shape[0]),'%')\n",
    "print(\"Percentage of total negative reviews According to nltk Compound Score: {:.2f}\".format(COUNT_negative*100/df.shape[0]),'%')\n",
    "print(\"Percentage of total Neutral reviews According to nltk Compound Score: {:.2f}\".format((df.shape[0] - (COUNT_Positive+COUNT_negative))*100/df.shape[0]),'%')"
   ]
  },
  {
   "cell_type": "markdown",
   "id": "a2f670b0",
   "metadata": {},
   "source": [
    "#### Based on the graphs, it is evident that a majority of the review scores are above 0, indicating that most of the reviews are positive. According to the nltk Compound Score, approximately 84.42% of the total reviews can be classified as positive, while 8.39% can be considered negative. The remaining 7.19% of reviews are categorized as neutral."
   ]
  }
 ],
 "metadata": {
  "kernelspec": {
   "display_name": "Python 3 (ipykernel)",
   "language": "python",
   "name": "python3"
  },
  "language_info": {
   "codemirror_mode": {
    "name": "ipython",
    "version": 3
   },
   "file_extension": ".py",
   "mimetype": "text/x-python",
   "name": "python",
   "nbconvert_exporter": "python",
   "pygments_lexer": "ipython3",
   "version": "3.9.12"
  }
 },
 "nbformat": 4,
 "nbformat_minor": 5
}
